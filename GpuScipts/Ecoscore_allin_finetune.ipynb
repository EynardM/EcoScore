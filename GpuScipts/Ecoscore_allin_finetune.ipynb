{
  "nbformat": 4,
  "nbformat_minor": 0,
  "metadata": {
    "colab": {
      "provenance": []
    },
    "kernelspec": {
      "name": "python3",
      "display_name": "Python 3"
    },
    "language_info": {
      "name": "python"
    },
    "widgets": {
      "application/vnd.jupyter.widget-state+json": {
        "2f565163941349c0b108033132bf6aae": {
          "model_module": "@jupyter-widgets/controls",
          "model_name": "HBoxModel",
          "model_module_version": "1.5.0",
          "state": {
            "_dom_classes": [],
            "_model_module": "@jupyter-widgets/controls",
            "_model_module_version": "1.5.0",
            "_model_name": "HBoxModel",
            "_view_count": null,
            "_view_module": "@jupyter-widgets/controls",
            "_view_module_version": "1.5.0",
            "_view_name": "HBoxView",
            "box_style": "",
            "children": [
              "IPY_MODEL_04e9e8b4bf674594a53f57361cc4e0ec",
              "IPY_MODEL_ae5af4b5b2cc4f1b88491d53a5cf59d1",
              "IPY_MODEL_f181fec58ed14ea9a7742a69a6b04b88"
            ],
            "layout": "IPY_MODEL_c01d15176c6e4a8c83f33b59162232bc"
          }
        },
        "04e9e8b4bf674594a53f57361cc4e0ec": {
          "model_module": "@jupyter-widgets/controls",
          "model_name": "HTMLModel",
          "model_module_version": "1.5.0",
          "state": {
            "_dom_classes": [],
            "_model_module": "@jupyter-widgets/controls",
            "_model_module_version": "1.5.0",
            "_model_name": "HTMLModel",
            "_view_count": null,
            "_view_module": "@jupyter-widgets/controls",
            "_view_module_version": "1.5.0",
            "_view_name": "HTMLView",
            "description": "",
            "description_tooltip": null,
            "layout": "IPY_MODEL_f86d285d1c144cd2a387d25f242957a1",
            "placeholder": "​",
            "style": "IPY_MODEL_b196aa73c7594e9bb62f517428c3fc39",
            "value": "Map: 100%"
          }
        },
        "ae5af4b5b2cc4f1b88491d53a5cf59d1": {
          "model_module": "@jupyter-widgets/controls",
          "model_name": "FloatProgressModel",
          "model_module_version": "1.5.0",
          "state": {
            "_dom_classes": [],
            "_model_module": "@jupyter-widgets/controls",
            "_model_module_version": "1.5.0",
            "_model_name": "FloatProgressModel",
            "_view_count": null,
            "_view_module": "@jupyter-widgets/controls",
            "_view_module_version": "1.5.0",
            "_view_name": "ProgressView",
            "bar_style": "success",
            "description": "",
            "description_tooltip": null,
            "layout": "IPY_MODEL_228b03e554db4d9395f49060352f23ff",
            "max": 1193,
            "min": 0,
            "orientation": "horizontal",
            "style": "IPY_MODEL_0350af6200914eb8b7d450cbaa03c485",
            "value": 1193
          }
        },
        "f181fec58ed14ea9a7742a69a6b04b88": {
          "model_module": "@jupyter-widgets/controls",
          "model_name": "HTMLModel",
          "model_module_version": "1.5.0",
          "state": {
            "_dom_classes": [],
            "_model_module": "@jupyter-widgets/controls",
            "_model_module_version": "1.5.0",
            "_model_name": "HTMLModel",
            "_view_count": null,
            "_view_module": "@jupyter-widgets/controls",
            "_view_module_version": "1.5.0",
            "_view_name": "HTMLView",
            "description": "",
            "description_tooltip": null,
            "layout": "IPY_MODEL_a779a9b2430e4ead915885d7891f2347",
            "placeholder": "​",
            "style": "IPY_MODEL_d50e7c23e0e14d429b39a5bb41ab8cc7",
            "value": " 1193/1193 [00:00&lt;00:00, 1220.01 examples/s]"
          }
        },
        "c01d15176c6e4a8c83f33b59162232bc": {
          "model_module": "@jupyter-widgets/base",
          "model_name": "LayoutModel",
          "model_module_version": "1.2.0",
          "state": {
            "_model_module": "@jupyter-widgets/base",
            "_model_module_version": "1.2.0",
            "_model_name": "LayoutModel",
            "_view_count": null,
            "_view_module": "@jupyter-widgets/base",
            "_view_module_version": "1.2.0",
            "_view_name": "LayoutView",
            "align_content": null,
            "align_items": null,
            "align_self": null,
            "border": null,
            "bottom": null,
            "display": null,
            "flex": null,
            "flex_flow": null,
            "grid_area": null,
            "grid_auto_columns": null,
            "grid_auto_flow": null,
            "grid_auto_rows": null,
            "grid_column": null,
            "grid_gap": null,
            "grid_row": null,
            "grid_template_areas": null,
            "grid_template_columns": null,
            "grid_template_rows": null,
            "height": null,
            "justify_content": null,
            "justify_items": null,
            "left": null,
            "margin": null,
            "max_height": null,
            "max_width": null,
            "min_height": null,
            "min_width": null,
            "object_fit": null,
            "object_position": null,
            "order": null,
            "overflow": null,
            "overflow_x": null,
            "overflow_y": null,
            "padding": null,
            "right": null,
            "top": null,
            "visibility": null,
            "width": null
          }
        },
        "f86d285d1c144cd2a387d25f242957a1": {
          "model_module": "@jupyter-widgets/base",
          "model_name": "LayoutModel",
          "model_module_version": "1.2.0",
          "state": {
            "_model_module": "@jupyter-widgets/base",
            "_model_module_version": "1.2.0",
            "_model_name": "LayoutModel",
            "_view_count": null,
            "_view_module": "@jupyter-widgets/base",
            "_view_module_version": "1.2.0",
            "_view_name": "LayoutView",
            "align_content": null,
            "align_items": null,
            "align_self": null,
            "border": null,
            "bottom": null,
            "display": null,
            "flex": null,
            "flex_flow": null,
            "grid_area": null,
            "grid_auto_columns": null,
            "grid_auto_flow": null,
            "grid_auto_rows": null,
            "grid_column": null,
            "grid_gap": null,
            "grid_row": null,
            "grid_template_areas": null,
            "grid_template_columns": null,
            "grid_template_rows": null,
            "height": null,
            "justify_content": null,
            "justify_items": null,
            "left": null,
            "margin": null,
            "max_height": null,
            "max_width": null,
            "min_height": null,
            "min_width": null,
            "object_fit": null,
            "object_position": null,
            "order": null,
            "overflow": null,
            "overflow_x": null,
            "overflow_y": null,
            "padding": null,
            "right": null,
            "top": null,
            "visibility": null,
            "width": null
          }
        },
        "b196aa73c7594e9bb62f517428c3fc39": {
          "model_module": "@jupyter-widgets/controls",
          "model_name": "DescriptionStyleModel",
          "model_module_version": "1.5.0",
          "state": {
            "_model_module": "@jupyter-widgets/controls",
            "_model_module_version": "1.5.0",
            "_model_name": "DescriptionStyleModel",
            "_view_count": null,
            "_view_module": "@jupyter-widgets/base",
            "_view_module_version": "1.2.0",
            "_view_name": "StyleView",
            "description_width": ""
          }
        },
        "228b03e554db4d9395f49060352f23ff": {
          "model_module": "@jupyter-widgets/base",
          "model_name": "LayoutModel",
          "model_module_version": "1.2.0",
          "state": {
            "_model_module": "@jupyter-widgets/base",
            "_model_module_version": "1.2.0",
            "_model_name": "LayoutModel",
            "_view_count": null,
            "_view_module": "@jupyter-widgets/base",
            "_view_module_version": "1.2.0",
            "_view_name": "LayoutView",
            "align_content": null,
            "align_items": null,
            "align_self": null,
            "border": null,
            "bottom": null,
            "display": null,
            "flex": null,
            "flex_flow": null,
            "grid_area": null,
            "grid_auto_columns": null,
            "grid_auto_flow": null,
            "grid_auto_rows": null,
            "grid_column": null,
            "grid_gap": null,
            "grid_row": null,
            "grid_template_areas": null,
            "grid_template_columns": null,
            "grid_template_rows": null,
            "height": null,
            "justify_content": null,
            "justify_items": null,
            "left": null,
            "margin": null,
            "max_height": null,
            "max_width": null,
            "min_height": null,
            "min_width": null,
            "object_fit": null,
            "object_position": null,
            "order": null,
            "overflow": null,
            "overflow_x": null,
            "overflow_y": null,
            "padding": null,
            "right": null,
            "top": null,
            "visibility": null,
            "width": null
          }
        },
        "0350af6200914eb8b7d450cbaa03c485": {
          "model_module": "@jupyter-widgets/controls",
          "model_name": "ProgressStyleModel",
          "model_module_version": "1.5.0",
          "state": {
            "_model_module": "@jupyter-widgets/controls",
            "_model_module_version": "1.5.0",
            "_model_name": "ProgressStyleModel",
            "_view_count": null,
            "_view_module": "@jupyter-widgets/base",
            "_view_module_version": "1.2.0",
            "_view_name": "StyleView",
            "bar_color": null,
            "description_width": ""
          }
        },
        "a779a9b2430e4ead915885d7891f2347": {
          "model_module": "@jupyter-widgets/base",
          "model_name": "LayoutModel",
          "model_module_version": "1.2.0",
          "state": {
            "_model_module": "@jupyter-widgets/base",
            "_model_module_version": "1.2.0",
            "_model_name": "LayoutModel",
            "_view_count": null,
            "_view_module": "@jupyter-widgets/base",
            "_view_module_version": "1.2.0",
            "_view_name": "LayoutView",
            "align_content": null,
            "align_items": null,
            "align_self": null,
            "border": null,
            "bottom": null,
            "display": null,
            "flex": null,
            "flex_flow": null,
            "grid_area": null,
            "grid_auto_columns": null,
            "grid_auto_flow": null,
            "grid_auto_rows": null,
            "grid_column": null,
            "grid_gap": null,
            "grid_row": null,
            "grid_template_areas": null,
            "grid_template_columns": null,
            "grid_template_rows": null,
            "height": null,
            "justify_content": null,
            "justify_items": null,
            "left": null,
            "margin": null,
            "max_height": null,
            "max_width": null,
            "min_height": null,
            "min_width": null,
            "object_fit": null,
            "object_position": null,
            "order": null,
            "overflow": null,
            "overflow_x": null,
            "overflow_y": null,
            "padding": null,
            "right": null,
            "top": null,
            "visibility": null,
            "width": null
          }
        },
        "d50e7c23e0e14d429b39a5bb41ab8cc7": {
          "model_module": "@jupyter-widgets/controls",
          "model_name": "DescriptionStyleModel",
          "model_module_version": "1.5.0",
          "state": {
            "_model_module": "@jupyter-widgets/controls",
            "_model_module_version": "1.5.0",
            "_model_name": "DescriptionStyleModel",
            "_view_count": null,
            "_view_module": "@jupyter-widgets/base",
            "_view_module_version": "1.2.0",
            "_view_name": "StyleView",
            "description_width": ""
          }
        }
      }
    }
  },
  "cells": [
    {
      "cell_type": "code",
      "source": [
        "from google.colab import drive\n",
        "drive.mount(\"/content/drive\")"
      ],
      "metadata": {
        "colab": {
          "base_uri": "https://localhost:8080/"
        },
        "id": "YVp_xCklMa7b",
        "outputId": "a49d0916-4846-48b6-895b-5836f2b0a83b"
      },
      "execution_count": 1,
      "outputs": [
        {
          "output_type": "stream",
          "name": "stdout",
          "text": [
            "Drive already mounted at /content/drive; to attempt to forcibly remount, call drive.mount(\"/content/drive\", force_remount=True).\n"
          ]
        }
      ]
    },
    {
      "cell_type": "code",
      "source": [
        "!pip install numpy pandas torch scikit-learn matplotlib datasets transformers tqdm accelerate"
      ],
      "metadata": {
        "id": "aP3hxW6yM10F"
      },
      "execution_count": null,
      "outputs": []
    },
    {
      "cell_type": "code",
      "execution_count": 8,
      "metadata": {
        "colab": {
          "base_uri": "https://localhost:8080/"
        },
        "id": "lR8ijyZ6MSaR",
        "outputId": "ad4bb343-f6c1-4988-f330-5a7ccd992bc7"
      },
      "outputs": [
        {
          "output_type": "stream",
          "name": "stdout",
          "text": [
            "Run on device: cuda\n"
          ]
        }
      ],
      "source": [
        "# Imports\n",
        "import numpy as np\n",
        "import pandas as pd\n",
        "import torch\n",
        "import torch.nn as nn\n",
        "import shutil\n",
        "from sklearn.model_selection import train_test_split\n",
        "import matplotlib.pyplot as plt\n",
        "from ast import literal_eval\n",
        "from datasets import Dataset\n",
        "from torch.utils.data import DataLoader\n",
        "from transformers import AutoTokenizer, AutoModelForSequenceClassification\n",
        "from tqdm import tqdm\n",
        "import accelerate\n",
        "import gc\n",
        "\n",
        "device = torch.device(\"cuda\" if torch.cuda.is_available() else \"cpu\")\n",
        "print(\"Run on device:\", device)\n",
        "\n",
        "def save_dataset(dataset: Dataset, path) -> None:\n",
        "    dataset.save_to_disk(path)\n",
        "\n",
        "def load_tokenizer(model_name):\n",
        "    return AutoTokenizer.from_pretrained(pretrained_model_name_or_path=model_name)\n",
        "\n",
        "def load_model(model_name):\n",
        "    return AutoModelForSequenceClassification.from_pretrained(pretrained_model_name_or_path=model_name, num_labels=7)\n",
        "\n",
        "def load_dataset(tokenizer=None):\n",
        "    dataset_path = \"/content/drive/MyDrive/final_reviews.csv\"\n",
        "    df = pd.read_csv(dataset_path)\n",
        "    df['labels'] = df['labels'].apply(literal_eval)\n",
        "\n",
        "    dataset = Dataset.from_pandas(df=df)\n",
        "    dataset = preprocessing_dataset(dataset, tokenizer=tokenizer)\n",
        "\n",
        "    dataset.set_format(\"torch\", columns=['review_tokens','review_attention_mask','labels'])\n",
        "    dataset_loader = DataLoader(dataset=dataset, batch_size=2, shuffle=True)\n",
        "\n",
        "    return dataset_loader\n",
        "\n",
        "def preprocessing(sample, tokenizer, max_length=400):\n",
        "    review_tokens = tokenizer(sample['review'], max_length=max_length, padding='max_length', truncation=True, return_tensors='pt', return_attention_mask=True)\n",
        "\n",
        "    return {\n",
        "        \"review_tokens\": review_tokens[\"input_ids\"].flatten(),\n",
        "        \"review_attention_mask\": review_tokens[\"attention_mask\"].flatten(),\n",
        "        \"labels\": sample['labels']\n",
        "    }\n",
        "\n",
        "def preprocessing_dataset(dataset: Dataset, tokenizer):\n",
        "    return dataset.map(lambda sample: preprocessing(sample, tokenizer))\n",
        "\n",
        "def compute_loss(predictions, review_labels):\n",
        "    loss = nn.CrossEntropyLoss()(predictions, review_labels.to(torch.float32))\n",
        "    return loss\n",
        "\n",
        "def compute_accuracy(predictions, review_labels):\n",
        "    predictions = torch.round(predictions).to(torch.int64)\n",
        "    correct_predictions = (predictions == review_labels).sum().item()\n",
        "    accuracy = correct_predictions / review_labels.size(0)\n",
        "    return accuracy\n",
        "\n",
        "import os\n",
        "from transformers import WEIGHTS_NAME, CONFIG_NAME, AutoConfig, AutoTokenizer\n",
        "\n",
        "def save_model(model, save_directory=\"/content/drive/MyDrive/EcoModel\"):\n",
        "    # Créer le répertoire s'il n'existe pas\n",
        "    os.makedirs(save_directory, exist_ok=True)\n",
        "\n",
        "    # Sauvegarder le modèle\n",
        "    model.save_pretrained(save_directory)\n",
        "\n",
        "    # Sauvegarder le tokenizer et la configuration\n",
        "    tokenizer = AutoTokenizer.from_pretrained(model.config._name_or_path)\n",
        "    tokenizer.save_pretrained(save_directory)\n",
        "\n",
        "    # Sauvegarder la configuration\n",
        "    model_config = AutoConfig.from_pretrained(model.config._name_or_path)\n",
        "    model_config.save_pretrained(save_directory)\n",
        "\n",
        "def train(epochs, model, tokenizer, training_dataloader, optimizer, scheduler, accelerator):\n",
        "    for epoch in range(epochs):\n",
        "        losses = []\n",
        "        accuracies = []\n",
        "        correct_predictions = 0\n",
        "        total_samples = 0\n",
        "\n",
        "        for batch in tqdm(training_dataloader):\n",
        "            accelerator.free_memory()\n",
        "            optimizer.zero_grad()\n",
        "\n",
        "            review_tokens = batch['review_tokens'].to(device)\n",
        "            review_attention_mask = batch['review_attention_mask'].to(device)\n",
        "            review_labels = batch['labels'].to(device)\n",
        "            # Forward pass\n",
        "            output = model(input_ids=review_tokens, attention_mask=review_attention_mask)\n",
        "            predictions = output[0]\n",
        "\n",
        "            # Compute the loss\n",
        "            loss = compute_loss(predictions, review_labels)\n",
        "            losses.append(loss.item())\n",
        "\n",
        "            # Backward pass\n",
        "            accelerator.backward(loss)\n",
        "            optimizer.step()\n",
        "            scheduler.step()\n",
        "\n",
        "            # Accuracy calculation\n",
        "            accuracy = compute_accuracy(predictions, review_labels)\n",
        "            accuracies.append(accuracy)\n",
        "\n",
        "\n",
        "        save_model(model)\n",
        "        print(f\"Epoch {epoch + 1}/{epochs}, Average Loss: {np.mean(losses)}, Accuracy: {np.mean(accuracies)}\")\n",
        "\n",
        "        # Clear memory\n",
        "        del output\n",
        "        del loss\n",
        "        del review_tokens\n",
        "        del review_attention_mask\n",
        "        del review_labels\n",
        "\n",
        "        gc.collect()"
      ]
    },
    {
      "cell_type": "code",
      "source": [
        "model_name = 'bert-base-uncased'\n",
        "tokenizer = load_tokenizer(model_name=model_name)\n",
        "\n",
        "dataset_loader = load_dataset(tokenizer=tokenizer)\n",
        "\n",
        "model = load_model(model_name=model_name).to(device)\n",
        "model.train()\n",
        "\n",
        "model.config.decoder_start_token_id = tokenizer.cls_token_id\n",
        "model.config.pad_token_id = tokenizer.pad_token_id\n",
        "\n",
        "optimizer = torch.optim.AdamW(model.parameters(), lr=1e-5)\n",
        "scheduler = torch.optim.lr_scheduler.ExponentialLR(optimizer, gamma=0.9)\n",
        "\n",
        "accelerator = accelerate.Accelerator()\n",
        "model, optimizer, dataset_loader, scheduler = accelerator.prepare(\n",
        "    model, optimizer, dataset_loader, scheduler\n",
        ")\n",
        "\n",
        "n = 10\n",
        "train(n, model, tokenizer, dataset_loader, optimizer, scheduler, accelerator)"
      ],
      "metadata": {
        "colab": {
          "base_uri": "https://localhost:8080/",
          "height": 451,
          "referenced_widgets": [
            "2f565163941349c0b108033132bf6aae",
            "04e9e8b4bf674594a53f57361cc4e0ec",
            "ae5af4b5b2cc4f1b88491d53a5cf59d1",
            "f181fec58ed14ea9a7742a69a6b04b88",
            "c01d15176c6e4a8c83f33b59162232bc",
            "f86d285d1c144cd2a387d25f242957a1",
            "b196aa73c7594e9bb62f517428c3fc39",
            "228b03e554db4d9395f49060352f23ff",
            "0350af6200914eb8b7d450cbaa03c485",
            "a779a9b2430e4ead915885d7891f2347",
            "d50e7c23e0e14d429b39a5bb41ab8cc7"
          ]
        },
        "id": "RLWDvp2NP1xE",
        "outputId": "7c24e29b-78c2-4ed8-84a2-1819fefbe3b8"
      },
      "execution_count": 9,
      "outputs": [
        {
          "output_type": "display_data",
          "data": {
            "text/plain": [
              "Map:   0%|          | 0/1193 [00:00<?, ? examples/s]"
            ],
            "application/vnd.jupyter.widget-view+json": {
              "version_major": 2,
              "version_minor": 0,
              "model_id": "2f565163941349c0b108033132bf6aae"
            }
          },
          "metadata": {}
        },
        {
          "output_type": "stream",
          "name": "stderr",
          "text": [
            "Some weights of BertForSequenceClassification were not initialized from the model checkpoint at bert-base-uncased and are newly initialized: ['classifier.weight', 'classifier.bias']\n",
            "You should probably TRAIN this model on a down-stream task to be able to use it for predictions and inference.\n",
            "100%|██████████| 597/597 [03:47<00:00,  2.62it/s]\n"
          ]
        },
        {
          "output_type": "stream",
          "name": "stdout",
          "text": [
            "Epoch 1/10, Average Loss: -7.100556375792677, Accuracy: 0.15159128978224456\n"
          ]
        },
        {
          "output_type": "stream",
          "name": "stderr",
          "text": [
            "100%|██████████| 597/597 [03:49<00:00,  2.60it/s]\n"
          ]
        },
        {
          "output_type": "stream",
          "name": "stdout",
          "text": [
            "Epoch 2/10, Average Loss: -7.102503481622118, Accuracy: 0.152428810720268\n"
          ]
        },
        {
          "output_type": "stream",
          "name": "stderr",
          "text": [
            "100%|██████████| 597/597 [03:49<00:00,  2.60it/s]\n"
          ]
        },
        {
          "output_type": "stream",
          "name": "stdout",
          "text": [
            "Epoch 3/10, Average Loss: -7.114442256028129, Accuracy: 0.15326633165829145\n"
          ]
        },
        {
          "output_type": "stream",
          "name": "stderr",
          "text": [
            "100%|██████████| 597/597 [03:49<00:00,  2.60it/s]\n"
          ]
        },
        {
          "output_type": "stream",
          "name": "stdout",
          "text": [
            "Epoch 4/10, Average Loss: -7.122710316824154, Accuracy: 0.1423785594639866\n"
          ]
        },
        {
          "output_type": "stream",
          "name": "stderr",
          "text": [
            "100%|██████████| 597/597 [03:49<00:00,  2.60it/s]\n"
          ]
        },
        {
          "output_type": "stream",
          "name": "stdout",
          "text": [
            "Epoch 5/10, Average Loss: -7.092774093650294, Accuracy: 0.152428810720268\n"
          ]
        },
        {
          "output_type": "stream",
          "name": "stderr",
          "text": [
            "100%|██████████| 597/597 [03:49<00:00,  2.60it/s]\n"
          ]
        },
        {
          "output_type": "stream",
          "name": "stdout",
          "text": [
            "Epoch 6/10, Average Loss: -7.107466927724867, Accuracy: 0.15159128978224456\n"
          ]
        },
        {
          "output_type": "stream",
          "name": "stderr",
          "text": [
            "100%|██████████| 597/597 [03:49<00:00,  2.60it/s]\n"
          ]
        },
        {
          "output_type": "stream",
          "name": "stdout",
          "text": [
            "Epoch 7/10, Average Loss: -7.12902499942524, Accuracy: 0.14991624790619765\n"
          ]
        },
        {
          "output_type": "stream",
          "name": "stderr",
          "text": [
            "100%|██████████| 597/597 [03:49<00:00,  2.60it/s]\n"
          ]
        },
        {
          "output_type": "stream",
          "name": "stdout",
          "text": [
            "Epoch 8/10, Average Loss: -7.086641360567243, Accuracy: 0.15326633165829145\n"
          ]
        },
        {
          "output_type": "stream",
          "name": "stderr",
          "text": [
            "100%|██████████| 597/597 [03:49<00:00,  2.60it/s]\n"
          ]
        },
        {
          "output_type": "stream",
          "name": "stdout",
          "text": [
            "Epoch 9/10, Average Loss: -7.079664824895524, Accuracy: 0.15996649916247907\n"
          ]
        },
        {
          "output_type": "stream",
          "name": "stderr",
          "text": [
            "100%|██████████| 597/597 [03:50<00:00,  2.59it/s]\n"
          ]
        },
        {
          "output_type": "stream",
          "name": "stdout",
          "text": [
            "Epoch 10/10, Average Loss: -7.106210904305105, Accuracy: 0.1507537688442211\n"
          ]
        }
      ]
    }
  ]
}